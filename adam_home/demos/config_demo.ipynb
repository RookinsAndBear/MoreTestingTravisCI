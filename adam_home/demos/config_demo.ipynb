{
 "cells": [
  {
   "cell_type": "markdown",
   "metadata": {},
   "source": [
    "## Configuration and authentication demo\n",
    "\n",
    "This notebook demonstrates how to generate your config file. The most complicated part of this is generating a token that can be passed to the ADAM REST server for access to API methods."
   ]
  },
  {
   "cell_type": "code",
   "execution_count": 2,
   "metadata": {},
   "outputs": [],
   "source": [
    "import sys\n",
    "from os.path import expanduser\n",
    "sys.path.append(expanduser(\"~\") + \"/adam_home\")\n",
    "\n",
    "import adam\n",
    "from adam import Auth\n",
    "from adam import ConfigManager\n",
    "from adam import RestRequests\n",
    "\n",
    "import webbrowser\n",
    "import urllib\n",
    "import os\n",
    "from shutil import copyfile"
   ]
  },
  {
   "cell_type": "markdown",
   "metadata": {},
   "source": [
    "Attempts to read config that is already set up from a config.json file in your working directory. Feel free to point it somewhere else. If it fails to read that file, it will copy the template from adam."
   ]
  },
  {
   "cell_type": "code",
   "execution_count": 3,
   "metadata": {},
   "outputs": [],
   "source": [
    "config_file = os.getcwd() + '/config.json'\n",
    "try:\n",
    "    f = open(config_file)\n",
    "    f.close()\n",
    "except:\n",
    "    copyfile(os.path.dirname(adam.__file__) + '/config_template.json', config_file)\n",
    "\n",
    "config_manager = ConfigManager(config_file)\n",
    "config = config_manager.get_config()\n",
    "\n",
    "# Feel free to run again with the following line to fill in your dev token.\n",
    "# config = config_manager.get_config(environment='dev')"
   ]
  },
  {
   "cell_type": "markdown",
   "metadata": {},
   "source": [
    "Now attempt to authenticate with the token in the config. If that fails, it tries to reauthenticate. This is a flow that directs a user to a page where they can log in and get a token. If that new token works, this will update the config file so the token can be used next time."
   ]
  },
  {
   "cell_type": "code",
   "execution_count": 4,
   "metadata": {},
   "outputs": [],
   "source": [
    "url = config.get_url()\n",
    "rest = RestRequests(url)\n",
    "auth = Auth(rest)"
   ]
  },
  {
   "cell_type": "code",
   "execution_count": null,
   "metadata": {},
   "outputs": [],
   "source": [
    "token = config.get_token()\n",
    "\n",
    "try:\n",
    "    auth.authenticate(token)\n",
    "    if auth.get_logged_in():\n",
    "        print('Welcome, ' + auth.get_user())\n",
    "    else:\n",
    "        input(\"A website will pop up and you will be given options to log in to \"\n",
    "              \"retrieve a token. Please copy the token and return here. Press enter to show popup and continue...\")\n",
    "        o = urllib.parse.urlparse(url)\n",
    "        token_url = \"%s://%s/%s\" % (o.scheme, o.netloc, 'token.html')  # Yes, seriously. This is how it's done.\n",
    "        webbrowser.open(token_url)\n",
    "        \n",
    "        token = input(\"Token: \")\n",
    "        print('\\n')\n",
    "        if auth.authenticate(token):\n",
    "            config.set_token(auth.get_token())\n",
    "            config_manager.to_file(config_file)\n",
    "            print('Updated config file with token for ' + url)\n",
    "            print('Welcome, ' + auth.get_user())\n",
    "        else:\n",
    "            print('Could not authenticate user.')\n",
    "except RuntimeError as e:\n",
    "    print('Encountered server error while attempting to authenticate: ' + str(e))"
   ]
  },
  {
   "cell_type": "markdown",
   "metadata": {},
   "source": [
    "If authentication was successful, the token can now be used for any API method requiring authentication."
   ]
  },
  {
   "cell_type": "markdown",
   "metadata": {},
   "source": [
    "Now an easy extra part. Do you have a workspace project? Enter its uuid here. It will be used as a parent of any temporary working projects created."
   ]
  },
  {
   "cell_type": "code",
   "execution_count": null,
   "metadata": {},
   "outputs": [],
   "source": [
    "# If you need some help finding the uuid, try the following (it might take a few seconds):\n",
    "# from adam import Projects\n",
    "# from adam import AuthenticatingRestProxy\n",
    "# Projects(AuthenticatingRestProxy(RestRequests(config.get_url()), token)).print_projects()\n",
    "\n",
    "workspace = input('Workspace project UUID: ')\n",
    "config.set_workspace(workspace)\n",
    "config_manager.to_file(config_file)"
   ]
  },
  {
   "cell_type": "code",
   "execution_count": null,
   "metadata": {},
   "outputs": [],
   "source": []
  }
 ],
 "metadata": {
  "kernelspec": {
   "display_name": "Python 3",
   "language": "python",
   "name": "python3"
  },
  "language_info": {
   "codemirror_mode": {
    "name": "ipython",
    "version": 3
   },
   "file_extension": ".py",
   "mimetype": "text/x-python",
   "name": "python",
   "nbconvert_exporter": "python",
   "pygments_lexer": "ipython3",
   "version": "3.6.4"
  }
 },
 "nbformat": 4,
 "nbformat_minor": 2
}
