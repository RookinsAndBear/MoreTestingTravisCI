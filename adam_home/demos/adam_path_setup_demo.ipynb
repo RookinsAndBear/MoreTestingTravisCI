{
 "cells": [
  {
   "cell_type": "code",
   "execution_count": null,
   "metadata": {},
   "outputs": [],
   "source": [
    "''' demo notebook to test adam path setup configuration '''"
   ]
  },
  {
   "cell_type": "code",
   "execution_count": 1,
   "metadata": {},
   "outputs": [
    {
     "name": "stdout",
     "output_type": "stream",
     "text": [
      "Changing adam home path to =  C:\\Users\\macuser/adam_home\n"
     ]
    }
   ],
   "source": [
    "import sys\n",
    "from os.path import expanduser\n",
    "adam_home_defined = expanduser(\"~\") + \"/adam_home\" # / syntax works for Windows, Mac, and Linux\n",
    "sys.path.append(adam_home_defined) \n",
    "#import adam modules after setting adam directory path \n",
    "from adam import adam_config\n",
    "# Set up adam paths\n",
    "ADAMpaths = adam_config.setPaths.initPaths(adam_home_defined)"
   ]
  },
  {
   "cell_type": "code",
   "execution_count": 2,
   "metadata": {},
   "outputs": [],
   "source": [
    "from adam import Batch\n",
    "from adam import Batches\n",
    "from adam import BatchRunManager\n",
    "from adam import PropagationParams\n",
    "from adam import OpmParams\n",
    "from adam import ConfigManager\n",
    "from adam import Projects\n",
    "from adam import RestRequests\n",
    "from adam import AuthenticatingRestProxy\n",
    "import time\n",
    "import os\n",
    "import numpy as np\n",
    "from datetime import datetime\n",
    "import win32com.client as win32"
   ]
  },
  {
   "cell_type": "code",
   "execution_count": 3,
   "metadata": {},
   "outputs": [
    {
     "name": "stdout",
     "output_type": "stream",
     "text": [
      "Path to ADAM package C:\\Users\\macuser/adam_home/\n",
      "Path to data directory C:\\Users\\macuser/adam_home/data\n",
      "Path to environment and path configuration file C:\\Users\\macuser/adam_home/config/adam_config_template.json\n"
     ]
    }
   ],
   "source": [
    "#--------------------------------------------\n",
    "# Path Directory from adam_config.json\n",
    "#--------------------------------------------\n",
    "\n",
    "#print('Path to ADAM package ' + adam_config.setPaths.home)\n",
    "print('Path to ADAM package ' + ADAMpaths[0])\n",
    "\n",
    "#print('Path to data directory ' + adam_config.setPaths.data_path)\n",
    "print('Path to data directory ' + ADAMpaths[1])\n",
    "\n",
    "#print('Path to environment and path configuration file ' + adam_config.setPaths.env_config_path)\n",
    "print('Path to environment and path template file ' + ADAMpaths[2])\n",
    "\n",
    "#--------------------------------------------\n",
    "# User add file name for generated data files\n",
    "user_folder_name = 'demo_ephem'\n",
    "#--------------------------------------------"
   ]
  },
  {
   "cell_type": "code",
   "execution_count": 4,
   "metadata": {},
   "outputs": [
    {
     "name": "stdout",
     "output_type": "stream",
     "text": [
      "Directory created for TODAY's generated data: C:\\Users\\macuser/adam_home/data/demo_ephem_2018_08_22\n"
     ]
    }
   ],
   "source": [
    "#--------------------------------------------\n",
    "# THIS BLOCK WILL CREATE A NEW FOLDER EACH \n",
    "# TIME IT IS RUN - Daily resolution\n",
    "#--------------------------------------------\n",
    "# User add file name for generated data files\n",
    "user_folder_name = 'demo_ephem'\n",
    "# Add 8 character time stamp (YYYYMMDD) with data directory path\n",
    "#data_folder = adam_config.setPaths.data_path + '/' + user_folder_name + '_'+ datetime.now().strftime(\"%Y_%m_%d\")\n",
    "data_folder = ADAMpaths[1] + '/' + user_folder_name + '_'+ datetime.now().strftime(\"%Y_%m_%d\")\n",
    "#data_folder = adam_config.setPaths.data_path + '/' + user_folder_name + '_'+ datetime.now().strftime(\"%Y_%m_%d_%H%M%s\")\n",
    "\n",
    "# Create data_folder with specified project name\n",
    "if not os.path.isdir(data_folder):\n",
    "    os.mkdir(data_folder)\n",
    "    print(\"Directory created for TODAY's generated data: \" + data_folder)\n",
    "else:\n",
    "    print(\"Directory \" + data_folder + \" already exists.\" )"
   ]
  },
  {
   "cell_type": "code",
   "execution_count": 5,
   "metadata": {},
   "outputs": [],
   "source": [
    "#Set up token and UUID from adam_config.json\n",
    "#sys.path.append(adam_config.setPaths.env_config_path)\n",
    "sys.path.append(ADAMpaths[3])\n",
    "config = ConfigManager(ADAMpaths[3]).get_config()\n",
    "auth_rest = AuthenticatingRestProxy(RestRequests(config.get_url()), config.get_token())#Open STK on the Desktop"
   ]
  },
  {
   "cell_type": "code",
   "execution_count": 6,
   "metadata": {},
   "outputs": [
    {
     "name": "stdout",
     "output_type": "stream",
     "text": [
      "win32com.gen_py.781C4C18-C2C9-4E16-B620-7B22BC8DE954x0x1x0._IAgUiApplication\n"
     ]
    }
   ],
   "source": [
    "# Start STK on the desktop (on Microsoft Windows)\n",
    "stk_app = win32.gencache.EnsureDispatch('STK11.Application')\n",
    "stk_app.Visible = True\n",
    "print(stk_app.__module__)\n",
    "STK = stk_app.Personality\n",
    "root = stk_app.Personality2"
   ]
  },
  {
   "cell_type": "code",
   "execution_count": 7,
   "metadata": {},
   "outputs": [],
   "source": [
    "# Load scenerio into STK \n",
    "scenarioPath = \"/ADAM_HelioGraphics/ADAM_HelioGraphics.sc\"\n",
    "#fullScenarioPath = \"{}{}\".format(adam_config.setPaths.data_path,scenarioPath)\n",
    "fullScenarioPath = \"{}{}\".format(ADAMpaths[1],scenarioPath)\n",
    "root.LoadScenario(fullScenarioPath)\n",
    "scenario = root.CurrentScenario"
   ]
  },
  {
   "cell_type": "code",
   "execution_count": 8,
   "metadata": {},
   "outputs": [],
   "source": [
    "# Get the STK satellite object\n",
    "g_gatorDefn = STK.scenario(0).Satellite('KeplerianConvert').GetAstrogatorDefn()\n",
    "seg = g_gatorDefn.GetSegmentByName(\"Initial State\")"
   ]
  },
  {
   "cell_type": "code",
   "execution_count": null,
   "metadata": {},
   "outputs": [],
   "source": [
    "propagation_params = PropagationParams({\n",
    "    'start_time': '2018-01-01T00:00:00Z',   # propagation start time in ISO format\n",
    "    'end_time': '2020-01-01T00:00:00Z',     # propagation end time in ISO format\n",
    "\n",
    "    'project_uuid': config.get_workspace(),\n",
    "\n",
    "    'step_size': 86400,                   # step size (seconds)\n",
    "    \n",
    "#     'propagator_uuid': '00000000-0000-0000-0000-000000000002',  # force model\n",
    "    \n",
    "     'description': 'Visulaization of synthetic asteroids'       # description of run\n",
    "})"
   ]
  },
  {
   "cell_type": "code",
   "execution_count": null,
   "metadata": {},
   "outputs": [],
   "source": [
    "# Asteroid Population Generation from Sarah Greenstreet:\n",
    "\n",
    "num_asteroids_to_generate = 1000\n",
    "\n",
    "# Set up lists for the new orbital elements\n",
    "sma3 = [] # semimajor axis (AU)\n",
    "ecc3 = [] # eccentricity\n",
    "inc_sun3 = [] # inclination (deg)\n",
    "Omega3 = [] # longitude of the ascending node (deg)\n",
    "arg_peri3 = [] # argument of perihelion (deg)\n",
    "ta3 = [] # true anamoly (deg)\n",
    "\n",
    "# Fill orbital element lists with 1000 random numbers drawn from a gaussian distribution\n",
    "# Orbital element variables:\n",
    "# sma3: mu=2.25, sigma=0.55\n",
    "# ecc3: mu=0.45, sigma=0.15\n",
    "# inc3: mu=10.0, sigma=3.0\n",
    "# 0.0 <= Omega3 <= 359.0\n",
    "# 0.0 <= arg_peri3 <= 359.0\n",
    "# 0.0 <= ta3 <= 359.0\n",
    "i = 0\n",
    "while i < num_asteroids_to_generate:\n",
    "    sma3.append(np.random.normal(2.25, 0.55))\n",
    "    ecc3.append(np.random.normal(0.45, 0.15))\n",
    "    inc_sun3.append(np.random.normal(10.0, 3.0))\n",
    "    Omega3.append(np.random.uniform(low=0.0,high=359.0))\n",
    "    arg_peri3.append(np.random.uniform(low=0.0,high=359.0))\n",
    "    ta3.append(np.random.uniform(low=0.0,high=359.0))\n",
    "    i = i + 1\n",
    "    \n",
    "# Now cut this sample down to only include NEOs (pericenter < 1.3 AU) that fall within a specified range of orbital element values.\n",
    "sma4 = [] # semimajor axis (AU)\n",
    "ecc4 = [] # eccentricity\n",
    "inc_sun4 = [] # inclination (deg)\n",
    "Omega4 = [] # longitude of the ascending node (deg)\n",
    "arg_peri4 = [] # argument of perihelion (deg)\n",
    "ta4 = [] # true anamoly (deg)\n",
    "\n",
    "# Only keep those asteroids which are NEOs (pericenter < 1.3 AU) with 0.8 <= sma <= 2.1, 0.01 <= ecc <= 0.5, inc <= 20.0\n",
    "j = 0\n",
    "while j < num_asteroids_to_generate:\n",
    "    pericenter = sma3[j] * (1.0-ecc3[j])\n",
    "    if pericenter < 1.3: # (AU)\n",
    "        if sma3[j] <= 2.1 and sma3[j] >= 0.8:\n",
    "            if ecc3[j] <= 0.5 and ecc3[j] >= 0.01:\n",
    "                if inc_sun3[j] <=20.0:\n",
    "                    sma4.append(sma3[j])\n",
    "                    ecc4.append(ecc3[j])\n",
    "                    inc_sun4.append(inc_sun3[j])\n",
    "                    Omega4.append(Omega3[j])\n",
    "                    arg_peri4.append(arg_peri3[j])\n",
    "                    ta4.append(ta3[j])\n",
    "    j = j + 1\n",
    "\n",
    "print('sma4[0]: {}, ecc4[0]: {}, inc_sun4[0]: {}, Omega4[0]: {}, arg_peri4[0]: {}, ta4[0]: {}'.format(sma4[0],ecc4[0],inc_sun4[0],Omega4[0],arg_peri4[0],ta4[0]))\n",
    "print(len(sma4))    "
   ]
  },
  {
   "cell_type": "code",
   "execution_count": null,
   "metadata": {},
   "outputs": [],
   "source": [
    "#####################################\n",
    "# Enter number to submit to the cloud\n",
    "\n",
    "num_to_send_to_cloud = 5\n",
    "\n",
    "#####################################\n",
    "\n",
    "if num_to_send_to_cloud > len(sma4):\n",
    "    print(\"Not enough asteroids generated to send to cloud; Only {} generated but () requested\".format(len(sma4),\n",
    "                                                                                                num_to_send_to_cloud))\n",
    "    num_to_send_to_cloud = len(sma4)"
   ]
  },
  {
   "cell_type": "code",
   "execution_count": null,
   "metadata": {},
   "outputs": [],
   "source": [
    "# Convert the Keplerian Orbital Elements to Cartesain for ADAM, and create batch          \n",
    "batch = []\n",
    "\n",
    "for x in range(0, num_to_send_to_cloud):\n",
    "    tf = seg.InitialState.Keplerian.sma.Set(sma4[x], \"Au\")\n",
    "    tf = seg.InitialState.Keplerian.ecc.value = ecc4[x]\n",
    "    tf = seg.InitialState.Keplerian.inc.Set(inc_sun4[x], \"deg\")\n",
    "    tf = seg.InitialState.Keplerian.RAAN.Set(Omega4[x], \"deg\")\n",
    "    tf = seg.InitialState.Keplerian.w.Set(arg_peri4[x], \"deg\")\n",
    "    tf = seg.InitialState.Keplerian.TA.Set(ta4[x], \"deg\")\n",
    "\n",
    "    tf = g_gatorDefn.RunMCS()\n",
    "    state_vec = [0.0,0.0,0.0,0.0,0.0,0.0]\n",
    "\n",
    "    state_vec[0] = seg.InitialState.GetResultValue('Sun X').GetIn(\"km\").value\n",
    "    state_vec[1] = seg.InitialState.GetResultValue('Sun Y').GetIn(\"km\").value\n",
    "    state_vec[2] = seg.InitialState.GetResultValue('Sun Z').GetIn(\"km\").value\n",
    "    state_vec[3] = seg.InitialState.GetResultValue('Sun Vx').GetIn(\"km/sec\").value\n",
    "    state_vec[4] = seg.InitialState.GetResultValue('Sun Vy').GetIn(\"km/sec\").value\n",
    "    state_vec[5] = seg.InitialState.GetResultValue('Sun Vz').GetIn(\"km/sec\").value\n",
    "\n",
    "    opm_params = OpmParams({\n",
    "        'epoch': '2018-01-01T00:00:00Z',\n",
    "        'state_vector': state_vec,\n",
    "\n",
    "    #     'mass': 500.5,              # object mass\n",
    "    #     'solar_rad_area': 25.2,     # object solar radiation area (m^2)\n",
    "    #     'solar_rad_coeff': 1.2,     # object solar radiation coefficient\n",
    "    #     'drag_area': 33.3,          # object drag area (m^2)\n",
    "    #     'drag_coeff': 2.5,          # object drag coefficient\n",
    "\n",
    "    #     'covariance': covariance,   # object covariance\n",
    "    #     'perturbation': 3,          # sigma perturbation on state vector\n",
    "    #     'hypercube': 'FACES',       # hypercube propagation type\n",
    "\n",
    "    #     'originator': 'Robot',      # originator of run\n",
    "    #     'object_name': 'TestObj',   # object name\n",
    "    #     'object_id': 'test1234',    # object ID\n",
    "    })\n",
    "\n",
    "    batch.append(Batch(propagation_params, opm_params))\n",
    "    #batch = Batch(propagation_params, opm_params)\n",
    "batch"
   ]
  },
  {
   "cell_type": "code",
   "execution_count": null,
   "metadata": {},
   "outputs": [],
   "source": [
    "print(\"Submitting OPM:\")\n",
    "print(batch[0].get_opm_params().generate_opm())"
   ]
  },
  {
   "cell_type": "code",
   "execution_count": null,
   "metadata": {},
   "outputs": [],
   "source": [
    "propagation_params"
   ]
  },
  {
   "cell_type": "code",
   "execution_count": null,
   "metadata": {},
   "outputs": [],
   "source": [
    "# Submit runs to the cloud and wait until batch run is ready\n",
    "\n",
    "# Start the timer so we know how long this took to run.\n",
    "startTime = datetime.now()\n",
    "print(\"Started run: {}\".format(str(startTime)))\n",
    "\n",
    "batches_module = Batches(auth_rest)\n",
    "#BatchRunManager(batches_module, [batch]).run()\n",
    "BatchRunManager(batches_module, batch).run()\n",
    "\n",
    "# Display the time and elasped time\n",
    "stopTime = datetime.now()\n",
    "elapsedTime = (stopTime-startTime)\n",
    "print(\"Current Time: {}; Elapsed Time: {} minutes\".format(str(stopTime),elapsedTime.total_seconds()/60.0))"
   ]
  },
  {
   "cell_type": "code",
   "execution_count": null,
   "metadata": {},
   "outputs": [],
   "source": [
    "# Get final status and parts count\n",
    "for b in batch:\n",
    "    parts_count = b.get_state_summary().get_parts_count()\n",
    "    print(\"Final state: %s, part count %s\\n\" % (b.get_calc_state(), parts_count))"
   ]
  },
  {
   "cell_type": "code",
   "execution_count": null,
   "metadata": {},
   "outputs": [],
   "source": [
    "# Get ephemeris of specified part\n",
    "part_to_get = 0\n",
    "eph = batch[0].get_results().get_parts()[part_to_get].get_ephemeris()\n",
    "print(\"Ephemeris:\")\n",
    "print(eph)"
   ]
  },
  {
   "cell_type": "code",
   "execution_count": null,
   "metadata": {},
   "outputs": [],
   "source": [
    "# Get the end state vector (uncomment to use)\n",
    "for b in batch:\n",
    "    end_state_vector = b.get_results().get_end_state_vector()\n",
    "    print(\"State vector at the end of propagation:\")\n",
    "    print(end_state_vector)"
   ]
  },
  {
   "cell_type": "code",
   "execution_count": null,
   "metadata": {},
   "outputs": [],
   "source": [
    "# Write the ephemeris to a STK .e file\n",
    "countNum = 0 #ek 060618 added to get around NameError: not defined\n",
    "countNum = countNum + 1 # Increment count for unique ephemeris and STK satellite object name\n",
    "\n",
    "satName = '{:04d}'.format(countNum)\n",
    "fileName = '{}.e'.format(satName)\n",
    "#filePath = adam_config.setPaths.data_path\n",
    "\n",
    "print('STK satellite object name: {}    Ephemeris File Name: {}   Ephemeris File Path: {}'.format(satName,fileName, data_folder))\n",
    "\n",
    "with open(data_folder + '/' + fileName, 'w') as f:\n",
    "        f.write(eph)"
   ]
  },
  {
   "cell_type": "code",
   "execution_count": null,
   "metadata": {},
   "outputs": [],
   "source": [
    "# Use STK MTO (Multi Track Object) to store epehmeris points in STK\n",
    "\n",
    "mto = root.CurrentScenario.Children('AsteroidTracks')\n",
    "root.ExecuteCommand('VO */MTO/AsteroidTracks System \"CentralBody/Sun Inertial\"')\n",
    "\n",
    "#newMTO = mto.CopyObject('Temp') # satName)"
   ]
  },
  {
   "cell_type": "code",
   "execution_count": null,
   "metadata": {},
   "outputs": [],
   "source": [
    "# Save ephemeris to STK \".e\" files, and add as track to MTO object in STK\n",
    "countNum = 1 \n",
    "\n",
    "for b in batch:\n",
    "    #Wrtie ephemeris to file\n",
    "    eph = b.get_results().get_parts()[0].get_ephemeris()\n",
    "    satName = '{:04d}'.format(countNum)\n",
    "    fileName = '{}.e'.format(satName)\n",
    "    print('STK satellite object name: {}    Ephemeris File Name: {}'.format(satName,fileName))\n",
    "    with open(data_folder + '/' + fileName, 'w') as f:\n",
    "        f.write(eph)\n",
    "    \n",
    "    # Add ephemeris file as MTO track\n",
    "    newTrack = mto.Tracks.Add(countNum)\n",
    "    newTrack.Points.LoadPoints(data_folder + '/' + fileName)\n",
    "    \n",
    "    # Set graphics properties of track\n",
    "    newTrack.Interpolate = True\n",
    "    mto.Graphics.Tracks.GetTrackFromId(countNum).Line.Width = 1\n",
    "    mto.Graphics.Tracks.GetTrackFromId(countNum).Color = 0xe16941 # Blue Green Red: 225 105 065\n",
    "    mto.Graphics.Tracks.GetTrackFromId(countNum).Line.Translucency = 33\n",
    "    \n",
    "    # Increment count for unique ephemeris and STK satellite object name\n",
    "    countNum = countNum + 1 "
   ]
  },
  {
   "cell_type": "code",
   "execution_count": null,
   "metadata": {},
   "outputs": [],
   "source": [
    "# Quit STK after demonstration\n",
    "stk_app.Visible = False\n",
    "stk_app.Quit"
   ]
  },
  {
   "cell_type": "code",
   "execution_count": null,
   "metadata": {},
   "outputs": [],
   "source": []
  }
 ],
 "metadata": {
  "kernelspec": {
   "display_name": "Python 3",
   "language": "python",
   "name": "python3"
  },
  "language_info": {
   "codemirror_mode": {
    "name": "ipython",
    "version": 3
   },
   "file_extension": ".py",
   "mimetype": "text/x-python",
   "name": "python",
   "nbconvert_exporter": "python",
   "pygments_lexer": "ipython3",
   "version": "3.6.4"
  }
 },
 "nbformat": 4,
 "nbformat_minor": 2
}
